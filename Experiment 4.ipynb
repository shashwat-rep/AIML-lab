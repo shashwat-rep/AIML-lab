{
 "cells": [
  {
   "cell_type": "markdown",
   "metadata": {},
   "source": [
    "Experiment - 4:\n",
    "\n",
    "Write a python program to import and export data using Pandas and show the details of the dataset like number of rows, columns, first five rows, size, number of missing values, sum, average, min and max values from the numerical columns."
   ]
  },
  {
   "cell_type": "code",
   "execution_count": 1,
   "metadata": {},
   "outputs": [],
   "source": [
    "import pandas as pd"
   ]
  },
  {
   "cell_type": "code",
   "execution_count": 2,
   "metadata": {},
   "outputs": [],
   "source": [
    "# Load the dataset\n",
    "df = pd.read_csv('sample.csv')"
   ]
  },
  {
   "cell_type": "code",
   "execution_count": 3,
   "metadata": {},
   "outputs": [
    {
     "name": "stdout",
     "output_type": "stream",
     "text": [
      "Number of rows: 44004\n",
      "Number of columns: 14\n"
     ]
    }
   ],
   "source": [
    "# Number of rows and columns\n",
    "print(f\"Number of rows: {df.shape[0]}\")\n",
    "print(f\"Number of columns: {df.shape[1]}\")"
   ]
  },
  {
   "cell_type": "code",
   "execution_count": 5,
   "metadata": {},
   "outputs": [
    {
     "name": "stdout",
     "output_type": "stream",
     "text": [
      "\n",
      "First five rows:\n",
      "  Series_reference   Period  Data_value  Suppressed STATUS   UNITS  Magnitude  \\\n",
      "0       TPTA.S22IA  1970.12      2771.0         NaN      F  NUMBER          0   \n",
      "1       TPTA.S22IA  1971.12      2076.0         NaN      F  NUMBER          0   \n",
      "2       TPTA.S22IA  1972.12      2037.0         NaN      F  NUMBER          0   \n",
      "3       TPTA.S22IA  1973.12      2101.0         NaN      F  NUMBER          0   \n",
      "4       TPTA.S22IA  1974.12      1282.0         NaN      F  NUMBER          0   \n",
      "\n",
      "           Subject                                              Group  \\\n",
      "0  Transport - TPT  New and Ex-Oseas Motor Vehicles Registered by ...   \n",
      "1  Transport - TPT  New and Ex-Oseas Motor Vehicles Registered by ...   \n",
      "2  Transport - TPT  New and Ex-Oseas Motor Vehicles Registered by ...   \n",
      "3  Transport - TPT  New and Ex-Oseas Motor Vehicles Registered by ...   \n",
      "4  Transport - TPT  New and Ex-Oseas Motor Vehicles Registered by ...   \n",
      "\n",
      "                         Series_title_1 Series_title_2  Series_title_3  \\\n",
      "0  New Cars&Station Wagons up to 850 cc            NaN             NaN   \n",
      "1  New Cars&Station Wagons up to 850 cc            NaN             NaN   \n",
      "2  New Cars&Station Wagons up to 850 cc            NaN             NaN   \n",
      "3  New Cars&Station Wagons up to 850 cc            NaN             NaN   \n",
      "4  New Cars&Station Wagons up to 850 cc            NaN             NaN   \n",
      "\n",
      "   Series_title_4  Series_title_5  \n",
      "0             NaN             NaN  \n",
      "1             NaN             NaN  \n",
      "2             NaN             NaN  \n",
      "3             NaN             NaN  \n",
      "4             NaN             NaN  \n"
     ]
    }
   ],
   "source": [
    "# First five rows of the dataset\n",
    "print(\"\\nFirst five rows:\")\n",
    "print(df.head(5))"
   ]
  },
  {
   "cell_type": "code",
   "execution_count": 6,
   "metadata": {},
   "outputs": [
    {
     "name": "stdout",
     "output_type": "stream",
     "text": [
      "\n",
      "Size of dataset: 616056\n"
     ]
    }
   ],
   "source": [
    "# Size of the dataset (total number of elements)\n",
    "print(f\"\\nSize of dataset: {df.size}\")"
   ]
  },
  {
   "cell_type": "code",
   "execution_count": 7,
   "metadata": {},
   "outputs": [
    {
     "name": "stdout",
     "output_type": "stream",
     "text": [
      "\n",
      "Missing values per column:\n",
      "Series_reference        0\n",
      "Period                  0\n",
      "Data_value             41\n",
      "Suppressed          44004\n",
      "STATUS                  0\n",
      "UNITS                   0\n",
      "Magnitude               0\n",
      "Subject                 0\n",
      "Group                   0\n",
      "Series_title_1          0\n",
      "Series_title_2      22434\n",
      "Series_title_3      44004\n",
      "Series_title_4      44004\n",
      "Series_title_5      44004\n",
      "dtype: int64\n"
     ]
    }
   ],
   "source": [
    "# Number of missing values in each column\n",
    "print(\"\\nMissing values per column:\")\n",
    "print(df.isnull().sum())"
   ]
  },
  {
   "cell_type": "code",
   "execution_count": 8,
   "metadata": {},
   "outputs": [
    {
     "name": "stdout",
     "output_type": "stream",
     "text": [
      "\n",
      "Sum of numerical columns:\n",
      "Period            8.812844e+07\n",
      "Data_value        8.000842e+09\n",
      "Suppressed        0.000000e+00\n",
      "Magnitude         0.000000e+00\n",
      "Series_title_3    0.000000e+00\n",
      "Series_title_4    0.000000e+00\n",
      "Series_title_5    0.000000e+00\n",
      "dtype: float64\n"
     ]
    }
   ],
   "source": [
    "# Sum of numerical columns\n",
    "print(\"\\nSum of numerical columns:\")\n",
    "print(df.select_dtypes(include='number').sum())"
   ]
  },
  {
   "cell_type": "code",
   "execution_count": 9,
   "metadata": {},
   "outputs": [
    {
     "name": "stdout",
     "output_type": "stream",
     "text": [
      "\n",
      "Average of numerical columns:\n",
      "Period              2002.737035\n",
      "Data_value        181990.362555\n",
      "Suppressed                  NaN\n",
      "Magnitude              0.000000\n",
      "Series_title_3              NaN\n",
      "Series_title_4              NaN\n",
      "Series_title_5              NaN\n",
      "dtype: float64\n"
     ]
    }
   ],
   "source": [
    "# Average of numerical columns\n",
    "print(\"\\nAverage of numerical columns:\")\n",
    "print(df.select_dtypes(include='number').mean())"
   ]
  },
  {
   "cell_type": "code",
   "execution_count": 10,
   "metadata": {},
   "outputs": [
    {
     "name": "stdout",
     "output_type": "stream",
     "text": [
      "\n",
      "Minimum values in numerical columns:\n",
      "Period            1961.01\n",
      "Data_value           0.00\n",
      "Suppressed            NaN\n",
      "Magnitude            0.00\n",
      "Series_title_3        NaN\n",
      "Series_title_4        NaN\n",
      "Series_title_5        NaN\n",
      "dtype: float64\n"
     ]
    }
   ],
   "source": [
    "# Minimum values in numerical columns\n",
    "print(\"\\nMinimum values in numerical columns:\")\n",
    "print(df.select_dtypes(include='number').min())"
   ]
  },
  {
   "cell_type": "code",
   "execution_count": 11,
   "metadata": {},
   "outputs": [
    {
     "name": "stdout",
     "output_type": "stream",
     "text": [
      "\n",
      "Maximum values in numerical columns:\n",
      "Period               2024.08\n",
      "Data_value        4607195.00\n",
      "Suppressed               NaN\n",
      "Magnitude               0.00\n",
      "Series_title_3           NaN\n",
      "Series_title_4           NaN\n",
      "Series_title_5           NaN\n",
      "dtype: float64\n"
     ]
    }
   ],
   "source": [
    "# Maximum values in numerical columns\n",
    "print(\"\\nMaximum values in numerical columns:\")\n",
    "print(df.select_dtypes(include='number').max())"
   ]
  }
 ],
 "metadata": {
  "kernelspec": {
   "display_name": "base",
   "language": "python",
   "name": "python3"
  },
  "language_info": {
   "codemirror_mode": {
    "name": "ipython",
    "version": 3
   },
   "file_extension": ".py",
   "mimetype": "text/x-python",
   "name": "python",
   "nbconvert_exporter": "python",
   "pygments_lexer": "ipython3",
   "version": "3.12.4"
  }
 },
 "nbformat": 4,
 "nbformat_minor": 2
}
