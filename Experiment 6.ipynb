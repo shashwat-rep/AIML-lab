{
 "cells": [
  {
   "cell_type": "markdown",
   "metadata": {},
   "source": [
    "Experiment - 6 \n",
    "\n",
    "Implement the missing value, and outlier handling data preprocessing techniques on the dataset imported in lab 4 or any other dataset."
   ]
  },
  {
   "cell_type": "code",
   "execution_count": 1,
   "metadata": {},
   "outputs": [],
   "source": [
    "import pandas as pd\n",
    "import numpy as np\n",
    "from scipy import stats"
   ]
  },
  {
   "cell_type": "code",
   "execution_count": 2,
   "metadata": {},
   "outputs": [],
   "source": [
    "# Function to handle missing values\n",
    "def handle_missing_values(data, strategy='mean'):\n",
    "    \"\"\"\n",
    "    This function fills missing values based on the chosen strategy:\n",
    "    - mean: fills with column mean\n",
    "    - median: fills with column median\n",
    "    - mode: fills with column mode (most frequent value)\n",
    "    \"\"\"\n",
    "    if strategy == 'mean':\n",
    "        return data.fillna(data.mean(numeric_only=True))\n",
    "    elif strategy == 'median':\n",
    "        return data.fillna(data.median(numeric_only=True))\n",
    "    elif strategy == 'mode':\n",
    "        return data.fillna(data.mode().iloc[0])\n",
    "    else:\n",
    "        raise ValueError(\"Invalid strategy! Use 'mean', 'median', or 'mode'.\")"
   ]
  },
  {
   "cell_type": "code",
   "execution_count": 5,
   "metadata": {},
   "outputs": [],
   "source": [
    "def handle_outliers(data):\n",
    "    \"\"\"\n",
    "    Detects and handles outliers using the IQR (Interquartile Range) method on numeric columns only.\n",
    "    Outliers will be capped to the lower and upper bounds defined by IQR.\n",
    "    \"\"\"\n",
    "    # Select numeric columns only\n",
    "    numeric_cols = data.select_dtypes(include=[np.number])\n",
    "\n",
    "    Q1 = numeric_cols.quantile(0.25)\n",
    "    Q3 = numeric_cols.quantile(0.75)\n",
    "    IQR = Q3 - Q1\n",
    "    lower_bound = Q1 - 1.5 * IQR\n",
    "    upper_bound = Q3 + 1.5 * IQR\n",
    "    \n",
    "    # Capping the outliers to the upper and lower bounds\n",
    "    numeric_cols_outliers_removed = numeric_cols.clip(lower=lower_bound, upper=upper_bound, axis=1)\n",
    "\n",
    "    # Replace the numeric columns in the original dataset\n",
    "    data[numeric_cols.columns] = numeric_cols_outliers_removed\n",
    "    \n",
    "    return data"
   ]
  },
  {
   "cell_type": "code",
   "execution_count": 6,
   "metadata": {},
   "outputs": [
    {
     "name": "stdout",
     "output_type": "stream",
     "text": [
      "Missing values before handling:\n",
      "Series_reference        0\n",
      "Period                  0\n",
      "Data_value             41\n",
      "Suppressed          44004\n",
      "STATUS                  0\n",
      "UNITS                   0\n",
      "Magnitude               0\n",
      "Subject                 0\n",
      "Group                   0\n",
      "Series_title_1          0\n",
      "Series_title_2      22434\n",
      "Series_title_3      44004\n",
      "Series_title_4      44004\n",
      "Series_title_5      44004\n",
      "dtype: int64\n",
      "\n",
      "Missing values after handling:\n",
      "Series_reference        0\n",
      "Period                  0\n",
      "Data_value              0\n",
      "Suppressed          44004\n",
      "STATUS                  0\n",
      "UNITS                   0\n",
      "Magnitude               0\n",
      "Subject                 0\n",
      "Group                   0\n",
      "Series_title_1          0\n",
      "Series_title_2      22434\n",
      "Series_title_3      44004\n",
      "Series_title_4      44004\n",
      "Series_title_5      44004\n",
      "dtype: int64\n",
      "\n",
      "Dataset statistics after handling outliers:\n",
      "             Period    Data_value  Suppressed  Magnitude  Series_title_3  \\\n",
      "count  44004.000000  44004.000000         0.0    44004.0             0.0   \n",
      "mean    2002.737259  15491.016942         NaN        0.0             NaN   \n",
      "std       13.376494  20777.341645         NaN        0.0             NaN   \n",
      "min     1961.650000      0.000000         NaN        0.0             NaN   \n",
      "25%     1993.090000    271.000000         NaN        0.0             NaN   \n",
      "50%     2004.020000   4399.500000         NaN        0.0             NaN   \n",
      "75%     2014.050000  22808.000000         NaN        0.0             NaN   \n",
      "max     2024.080000  56613.500000         NaN        0.0             NaN   \n",
      "\n",
      "       Series_title_4  Series_title_5  \n",
      "count             0.0             0.0  \n",
      "mean              NaN             NaN  \n",
      "std               NaN             NaN  \n",
      "min               NaN             NaN  \n",
      "25%               NaN             NaN  \n",
      "50%               NaN             NaN  \n",
      "75%               NaN             NaN  \n",
      "max               NaN             NaN  \n"
     ]
    }
   ],
   "source": [
    "# Example usage\n",
    "if __name__ == \"__main__\":\n",
    "    # File path to your sample.csv\n",
    "    file_path = 'sample.csv'\n",
    "    \n",
    "    # Load the dataset\n",
    "    dataset = pd.read_csv(file_path)\n",
    "    \n",
    "    # Show initial missing values count\n",
    "    print(\"Missing values before handling:\")\n",
    "    print(dataset.isnull().sum())\n",
    "    \n",
    "    # Handling missing values (fill with mean)\n",
    "    dataset_cleaned = handle_missing_values(dataset, strategy='mean')\n",
    "    \n",
    "    # Show missing values count after handling\n",
    "    print(\"\\nMissing values after handling:\")\n",
    "    print(dataset_cleaned.isnull().sum())\n",
    "    \n",
    "    # Handling outliers\n",
    "    dataset_no_outliers = handle_outliers(dataset_cleaned)\n",
    "    \n",
    "    # Show some statistics after outlier handling\n",
    "    print(\"\\nDataset statistics after handling outliers:\")\n",
    "    print(dataset_no_outliers.describe())"
   ]
  }
 ],
 "metadata": {
  "kernelspec": {
   "display_name": "base",
   "language": "python",
   "name": "python3"
  },
  "language_info": {
   "codemirror_mode": {
    "name": "ipython",
    "version": 3
   },
   "file_extension": ".py",
   "mimetype": "text/x-python",
   "name": "python",
   "nbconvert_exporter": "python",
   "pygments_lexer": "ipython3",
   "version": "3.12.4"
  }
 },
 "nbformat": 4,
 "nbformat_minor": 2
}
